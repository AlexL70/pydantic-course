{
 "cells": [
  {
   "cell_type": "markdown",
   "metadata": {
    "vscode": {
     "languageId": "plaintext"
    }
   },
   "source": [
    "Our First Pydantic Model\n"
   ]
  },
  {
   "cell_type": "code",
   "execution_count": 69,
   "metadata": {},
   "outputs": [],
   "source": [
    "import pydantic"
   ]
  },
  {
   "cell_type": "code",
   "execution_count": 70,
   "metadata": {},
   "outputs": [
    {
     "name": "stdout",
     "output_type": "stream",
     "text": [
      "2.5.3\n"
     ]
    }
   ],
   "source": [
    "print(pydantic.VERSION)"
   ]
  },
  {
   "cell_type": "code",
   "execution_count": 71,
   "metadata": {},
   "outputs": [],
   "source": [
    "from pydantic import BaseModel"
   ]
  },
  {
   "cell_type": "code",
   "execution_count": 72,
   "metadata": {},
   "outputs": [],
   "source": [
    "class User(BaseModel):\n",
    "    name: str\n",
    "    age: int\n",
    "    email: str"
   ]
  },
  {
   "cell_type": "code",
   "execution_count": 73,
   "metadata": {},
   "outputs": [
    {
     "data": {
      "text/plain": [
       "User(name='John Doe', age=25, email='john.doe@gmail.com')"
      ]
     },
     "execution_count": 73,
     "metadata": {},
     "output_type": "execute_result"
    }
   ],
   "source": [
    "usr = User(name=\"John Doe\", age=25, email=\"john.doe@gmail.com\")\n",
    "usr"
   ]
  },
  {
   "cell_type": "code",
   "execution_count": 74,
   "metadata": {},
   "outputs": [
    {
     "data": {
      "text/plain": [
       "'John Doe'"
      ]
     },
     "execution_count": 74,
     "metadata": {},
     "output_type": "execute_result"
    }
   ],
   "source": [
    "usr.name"
   ]
  },
  {
   "cell_type": "code",
   "execution_count": 75,
   "metadata": {},
   "outputs": [
    {
     "name": "stdout",
     "output_type": "stream",
     "text": [
      "Validation error: 1 validation error for User\n",
      "age\n",
      "  Input should be a valid integer, unable to parse string as an integer [type=int_parsing, input_value='Young and pretty.', input_type=str]\n",
      "    For further information visit https://errors.pydantic.dev/2.5/v/int_parsing\n"
     ]
    }
   ],
   "source": [
    "try:\n",
    "    user = User(name=\"Jane Doe\", age=\"Young and pretty.\", email=\"jane.doe@gmai.com\")\n",
    "except pydantic.ValidationError as e:\n",
    "    print(\"Validation error:\", e)\n"
   ]
  },
  {
   "cell_type": "code",
   "execution_count": 76,
   "metadata": {},
   "outputs": [
    {
     "data": {
      "text/plain": [
       "User(name='Jane Doe', age=22, email='jane.doe@gmai.com')"
      ]
     },
     "execution_count": 76,
     "metadata": {},
     "output_type": "execute_result"
    }
   ],
   "source": [
    "try:\n",
    "    user = User(name=\"Jane Doe\", age=\"22\", email=\"jane.doe@gmai.com\")\n",
    "except pydantic.ValidationError as e:\n",
    "    print(\"Validation error:\", e)\n",
    "\n",
    "user"
   ]
  },
  {
   "cell_type": "code",
   "execution_count": 77,
   "metadata": {},
   "outputs": [],
   "source": [
    "class UserStrict(BaseModel):\n",
    "    name: str\n",
    "    age: int\n",
    "    email: str\n",
    "    \n",
    "    class Config:\n",
    "        strict = True"
   ]
  },
  {
   "cell_type": "code",
   "execution_count": 78,
   "metadata": {},
   "outputs": [
    {
     "name": "stdout",
     "output_type": "stream",
     "text": [
      "Validation error occurs because pydentic is in the strict mode: 1 validation error for UserStrict\n",
      "age\n",
      "  Input should be a valid integer [type=int_type, input_value='22', input_type=str]\n",
      "    For further information visit https://errors.pydantic.dev/2.5/v/int_type\n"
     ]
    }
   ],
   "source": [
    "try:\n",
    "    user = UserStrict(name=\"Jane Doe\", age=\"22\", email=\"jane.doe@gmail.com\")\n",
    "except pydantic.ValidationError as e:\n",
    "    print(\"Validation error occurs because pydentic is in the strict mode:\", e)"
   ]
  },
  {
   "cell_type": "code",
   "execution_count": 79,
   "metadata": {},
   "outputs": [],
   "source": [
    "from pydantic import StrictInt\n",
    "class UserWithStrictAge(BaseModel):\n",
    "    name: str\n",
    "    age: StrictInt\n",
    "    email: str"
   ]
  },
  {
   "cell_type": "code",
   "execution_count": 80,
   "metadata": {},
   "outputs": [
    {
     "name": "stdout",
     "output_type": "stream",
     "text": [
      "Exception occurs because 'age' is of type 'StrictInt': 1 validation error for UserWithStrictAge\n",
      "age\n",
      "  Input should be a valid integer [type=int_type, input_value='22', input_type=str]\n",
      "    For further information visit https://errors.pydantic.dev/2.5/v/int_type\n"
     ]
    }
   ],
   "source": [
    "try:\n",
    "    user = UserWithStrictAge(name=\"Jane Doe\", age=\"22\", email=\"jane.doe@gmail.com\")\n",
    "except pydantic.ValidationError as e:\n",
    "    print(\"Exception occurs because 'age' is of type 'StrictInt':\", e)"
   ]
  },
  {
   "cell_type": "code",
   "execution_count": 81,
   "metadata": {},
   "outputs": [],
   "source": [
    "from pydantic import Field\n",
    "from pydantic import EmailStr\n",
    "class UserWithRestrictions(BaseModel):\n",
    "    name: str = Field(min_length=3, max_length=60)\n",
    "    age: StrictInt = Field(ge=18, le=120) ## Greater or equal to 18 and less or equal to 120\n",
    "    email: EmailStr"
   ]
  },
  {
   "cell_type": "code",
   "execution_count": 82,
   "metadata": {},
   "outputs": [
    {
     "name": "stdout",
     "output_type": "stream",
     "text": [
      "3 validation errors for UserWithRestrictions\n",
      "name\n",
      "  String should have at least 3 characters [type=string_too_short, input_value='JD', input_type=str]\n",
      "    For further information visit https://errors.pydantic.dev/2.5/v/string_too_short\n",
      "age\n",
      "  Input should be less than or equal to 120 [type=less_than_equal, input_value=121, input_type=int]\n",
      "    For further information visit https://errors.pydantic.dev/2.5/v/less_than_equal\n",
      "email\n",
      "  value is not a valid email address: An email address must have an @-sign. [type=value_error, input_value='some email', input_type=str]\n"
     ]
    }
   ],
   "source": [
    "try:\n",
    "    user = UserWithRestrictions(name=\"JD\", age=121, email=\"some email\")\n",
    "except pydantic.ValidationError as e:\n",
    "    print(e)"
   ]
  },
  {
   "cell_type": "code",
   "execution_count": null,
   "metadata": {},
   "outputs": [],
   "source": [
    "from datetime import date"
   ]
  }
 ],
 "metadata": {
  "kernelspec": {
   "display_name": ".venv",
   "language": "python",
   "name": "python3"
  },
  "language_info": {
   "codemirror_mode": {
    "name": "ipython",
    "version": 3
   },
   "file_extension": ".py",
   "mimetype": "text/x-python",
   "name": "python",
   "nbconvert_exporter": "python",
   "pygments_lexer": "ipython3",
   "version": "3.11.11"
  }
 },
 "nbformat": 4,
 "nbformat_minor": 2
}
