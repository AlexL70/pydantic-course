{
 "cells": [
  {
   "cell_type": "code",
   "execution_count": 42,
   "metadata": {},
   "outputs": [],
   "source": [
    "import pydantic\n",
    "from pydantic import BaseModel\n",
    "from datetime import date\n",
    "\n",
    "class Event(BaseModel):\n",
    "    event_date: date"
   ]
  },
  {
   "cell_type": "code",
   "execution_count": 43,
   "metadata": {},
   "outputs": [
    {
     "data": {
      "text/plain": [
       "Event(event_date=datetime.date(2024, 3, 3))"
      ]
     },
     "execution_count": 43,
     "metadata": {},
     "output_type": "execute_result"
    }
   ],
   "source": [
    "try:\n",
    "    event = Event(event_date=\"2024-03-03\")\n",
    "except pydantic.ValidationError as e:\n",
    "    print(e)\n",
    "\n",
    "event"
   ]
  },
  {
   "cell_type": "code",
   "execution_count": 44,
   "metadata": {},
   "outputs": [
    {
     "data": {
      "text/plain": [
       "EventWithTime(event_date=datetime.date(2025, 1, 5), event_time=datetime.time(3, 12))"
      ]
     },
     "execution_count": 44,
     "metadata": {},
     "output_type": "execute_result"
    }
   ],
   "source": [
    "from datetime import time\n",
    "\n",
    "class EventWithTime(BaseModel):\n",
    "    event_date: date\n",
    "    event_time: time\n",
    "    \n",
    "try:\n",
    "    event = EventWithTime(event_date=\"2025-01-05\", event_time=\"03:12\")\n",
    "except pydantic.ValidationError as e:\n",
    "    print(e)\n",
    "\n",
    "event"
   ]
  },
  {
   "cell_type": "code",
   "execution_count": 45,
   "metadata": {},
   "outputs": [
    {
     "data": {
      "text/plain": [
       "'2025-02-05 14:31:03.895811'"
      ]
     },
     "execution_count": 45,
     "metadata": {},
     "output_type": "execute_result"
    }
   ],
   "source": [
    "from datetime import datetime\n",
    "\n",
    "class Appointment(BaseModel):\n",
    "    start_time: datetime\n",
    "    \n",
    "try:\n",
    "    appointment = Appointment(start_time=datetime.now())\n",
    "except pydantic.ValidationError as e:\n",
    "    print(e)\n",
    "    \n",
    "appointment.start_time.__str__()"
   ]
  },
  {
   "cell_type": "code",
   "execution_count": 46,
   "metadata": {},
   "outputs": [
    {
     "data": {
      "text/plain": [
       "[2, 4, 6, 8, 10]"
      ]
     },
     "execution_count": 46,
     "metadata": {},
     "output_type": "execute_result"
    }
   ],
   "source": [
    "[2, 4, 6, 8, 10]"
   ]
  },
  {
   "cell_type": "code",
   "execution_count": 47,
   "metadata": {},
   "outputs": [
    {
     "data": {
      "text/plain": [
       "[2, 4, 6, 8, 10]"
      ]
     },
     "execution_count": 47,
     "metadata": {},
     "output_type": "execute_result"
    }
   ],
   "source": [
    "[x for x in range(1, 11) if x % 2 == 0]"
   ]
  },
  {
   "cell_type": "code",
   "execution_count": 48,
   "metadata": {},
   "outputs": [
    {
     "data": {
      "text/plain": [
       "ShoppingList(items=['apple', 'banana', 'cherry'])"
      ]
     },
     "execution_count": 48,
     "metadata": {},
     "output_type": "execute_result"
    }
   ],
   "source": [
    "from typing import List\n",
    "\n",
    "class ShoppingList(BaseModel):\n",
    "    items: List[str]\n",
    "    \n",
    "try:\n",
    "    shopping_list = ShoppingList(items=[\"apple\", \"banana\", \"cherry\"])\n",
    "except pydantic.ValidationError as e:\n",
    "    print(e)\n",
    "\n",
    "shopping_list"
   ]
  },
  {
   "cell_type": "code",
   "execution_count": 49,
   "metadata": {},
   "outputs": [],
   "source": [
    "from pydantic import Field\n",
    "\n",
    "class ShoppingListWithConstraint(BaseModel):\n",
    "    items: List[str] = Field(max_items=5, min_items=2)"
   ]
  },
  {
   "cell_type": "code",
   "execution_count": 50,
   "metadata": {},
   "outputs": [
    {
     "name": "stdout",
     "output_type": "stream",
     "text": [
      "List validation error: 1 validation error for ShoppingListWithConstraint\n",
      "items\n",
      "  List should have at most 5 items after validation, not 6 [type=too_long, input_value=['apple', 'banana', 'cher...ch', 'apricot', 'melon'], input_type=list]\n",
      "    For further information visit https://errors.pydantic.dev/2.5/v/too_long\n"
     ]
    },
    {
     "data": {
      "text/plain": [
       "ShoppingList(items=['apple', 'banana', 'cherry'])"
      ]
     },
     "execution_count": 50,
     "metadata": {},
     "output_type": "execute_result"
    }
   ],
   "source": [
    "try:\n",
    "    shopping_list = ShoppingListWithConstraint(items=[\n",
    "        \"apple\", \"banana\", \"cherry\",\n",
    "        \"peach\", \"apricot\", \n",
    "        \"melon\"])\n",
    "except pydantic.ValidationError as e:\n",
    "    print(\"List validation error:\", e)\n",
    "\n",
    "shopping_list"
   ]
  },
  {
   "cell_type": "code",
   "execution_count": 51,
   "metadata": {},
   "outputs": [],
   "source": [
    "class Matrix(BaseModel):\n",
    "    grid: List[List[int]]"
   ]
  },
  {
   "cell_type": "code",
   "execution_count": 52,
   "metadata": {},
   "outputs": [
    {
     "name": "stdout",
     "output_type": "stream",
     "text": [
      "grid=[[1, 2, 3], [3, 4, 9]]\n"
     ]
    }
   ],
   "source": [
    "try:\n",
    "    matrix = Matrix(grid=[[1, 2, 3], [3, 4, 9]])\n",
    "    print(matrix)\n",
    "except pydantic.ValidationError as e:\n",
    "    print(e)"
   ]
  },
  {
   "cell_type": "code",
   "execution_count": 53,
   "metadata": {},
   "outputs": [],
   "source": [
    "class Ingredient(BaseModel):\n",
    "    name: str\n",
    "    quantity: float\n",
    "\n",
    "class Recipe(BaseModel):\n",
    "    ingredients: List[Ingredient]"
   ]
  },
  {
   "cell_type": "code",
   "execution_count": 54,
   "metadata": {},
   "outputs": [
    {
     "name": "stdout",
     "output_type": "stream",
     "text": [
      "ingredients=[Ingredient(name='salt', quantity=0.3), Ingredient(name='pepper', quantity=0.6), Ingredient(name='chicken breast', quantity=4.6)]\n"
     ]
    }
   ],
   "source": [
    "try:\n",
    "    recipe = Recipe(ingredients=[\n",
    "        Ingredient(name=\"salt\", quantity=0.3),\n",
    "        Ingredient(name=\"pepper\", quantity=0.6),\n",
    "        Ingredient(name=\"chicken breast\", quantity=4.6)\n",
    "    ])\n",
    "    print(recipe)\n",
    "except pydantic.ValidationError as e:\n",
    "    print(e)"
   ]
  },
  {
   "cell_type": "markdown",
   "metadata": {},
   "source": [
    "Dictionaries"
   ]
  },
  {
   "cell_type": "code",
   "execution_count": 55,
   "metadata": {},
   "outputs": [],
   "source": [
    "from pydantic import BaseModel\n",
    "from pydantic import Field\n",
    "from typing import Dict\n",
    "\n",
    "class UserProfiles(BaseModel):\n",
    "    profiles: Dict[str, int] = Field(min_items=2)"
   ]
  },
  {
   "cell_type": "code",
   "execution_count": 56,
   "metadata": {},
   "outputs": [
    {
     "name": "stdout",
     "output_type": "stream",
     "text": [
      "{'alice': 25, 'bob': 23}\n",
      "2\n"
     ]
    }
   ],
   "source": [
    "try:\n",
    "    user_profiles = UserProfiles(profiles=\n",
    "        {\"alice\": 25,\n",
    "         #\"hatter\": \"unknown age\", # would cause an error because age is not integer\n",
    "         \"bob\": 23})\n",
    "except pydantic.ValidationError as e:\n",
    "    print(e)\n",
    "\n",
    "print(user_profiles.profiles)\n",
    "print(len(user_profiles.profiles))"
   ]
  },
  {
   "cell_type": "code",
   "execution_count": 57,
   "metadata": {},
   "outputs": [],
   "source": [
    "class Product(BaseModel):\n",
    "    name: str\n",
    "    price: float\n",
    "    \n",
    "class ProductCatalog(BaseModel):\n",
    "    products: Dict[str, Product]"
   ]
  },
  {
   "cell_type": "code",
   "execution_count": 58,
   "metadata": {},
   "outputs": [
    {
     "name": "stdout",
     "output_type": "stream",
     "text": [
      "{'p1': Product(name='tea', price=4.99), 'p2': Product(name='coffee', price=3.99), 'p3': Product(name='pasta', price=13.99)}\n",
      "3\n"
     ]
    }
   ],
   "source": [
    "try:\n",
    "    p_catalog = ProductCatalog(products={\n",
    "        \"p1\": Product(name=\"tea\", price=4.99),\n",
    "        \"p2\": Product(name=\"coffee\", price=3.99),\n",
    "        \"p3\": {\"name\": \"pasta\", \"price\": 13.99}\n",
    "    })\n",
    "except pydantic.ValidationError as e:\n",
    "    print(e)\n",
    "\n",
    "print(p_catalog.products)\n",
    "print(len(p_catalog.products))"
   ]
  },
  {
   "cell_type": "code",
   "execution_count": 59,
   "metadata": {},
   "outputs": [],
   "source": [
    "class Order(BaseModel):\n",
    "    product_id: str\n",
    "    quantity: int\n",
    "    \n",
    "class OrderBook(BaseModel):\n",
    "    orders: Dict[str, Dict[str, Order]]"
   ]
  },
  {
   "cell_type": "code",
   "execution_count": 60,
   "metadata": {},
   "outputs": [
    {
     "name": "stdout",
     "output_type": "stream",
     "text": [
      "{'o1': {'i1': Order(product_id='A1', quantity=2)}, 'o2': {'i2': Order(product_id='A2', quantity=3)}}\n",
      "2\n"
     ]
    }
   ],
   "source": [
    "try:\n",
    "    orders = OrderBook(orders={\n",
    "        \"o1\": {\"i1\": Order(product_id=\"A1\", quantity=2)},\n",
    "        \"o2\": {\"i2\": Order(product_id=\"A2\", quantity=3)}\n",
    "    })\n",
    "except pydantic.ValidationError as e:\n",
    "    print(e)\n",
    "    \n",
    "print(orders.orders)\n",
    "print(len(orders.orders))"
   ]
  },
  {
   "cell_type": "markdown",
   "metadata": {
    "notebookRunGroups": {
     "groupValue": "1"
    }
   },
   "source": [
    "Sets And Tuples"
   ]
  },
  {
   "cell_type": "code",
   "execution_count": 61,
   "metadata": {},
   "outputs": [
    {
     "name": "stdout",
     "output_type": "stream",
     "text": [
      "values={1, 2, 3, 4}\n"
     ]
    }
   ],
   "source": [
    "from pydantic import BaseModel, Field, ValidationError\n",
    "from typing import Set\n",
    "\n",
    "class UniqueNumbers(BaseModel):\n",
    "    values: Set[int] = Field(max_items=10, min_items=2)\n",
    "    \n",
    "try:\n",
    "    unique_numbers = UniqueNumbers(values={1, 2, 3, 4, \"4\"})\n",
    "    print(unique_numbers)\n",
    "except ValidationError as e:\n",
    "    print(e)"
   ]
  },
  {
   "cell_type": "code",
   "execution_count": 62,
   "metadata": {},
   "outputs": [],
   "source": [
    "from typing import Tuple\n",
    "class Coordinates(BaseModel):\n",
    "    point: Tuple[float, float, float]"
   ]
  },
  {
   "cell_type": "code",
   "execution_count": 64,
   "metadata": {},
   "outputs": [
    {
     "name": "stdout",
     "output_type": "stream",
     "text": [
      "point=(1.0, 2.0, 3.0)\n"
     ]
    }
   ],
   "source": [
    "coordinates = Coordinates(point=(1.0, 2.0, 3.0))\n",
    "print(coordinates)"
   ]
  },
  {
   "cell_type": "code",
   "execution_count": 65,
   "metadata": {},
   "outputs": [
    {
     "data": {
      "text/plain": [
       "UserInfo(details=(42, 'Answer', True))"
      ]
     },
     "execution_count": 65,
     "metadata": {},
     "output_type": "execute_result"
    }
   ],
   "source": [
    "class UserInfo(BaseModel):\n",
    "    details: Tuple[int, str, bool]\n",
    "    \n",
    "user_info = UserInfo(details=(42, \"Answer\", True))\n",
    "user_info"
   ]
  },
  {
   "cell_type": "code",
   "execution_count": 68,
   "metadata": {},
   "outputs": [
    {
     "name": "stdout",
     "output_type": "stream",
     "text": [
      "details=('apples',)\n",
      "details=('apples', 'bananas', 'grapes')\n"
     ]
    }
   ],
   "source": [
    "class GroceryList(BaseModel):\n",
    "    details: Tuple[str, ...]\n",
    "\n",
    "list = GroceryList(details=(\"apples\",))\n",
    "print(list)\n",
    "list = GroceryList(details=(\"apples\", \"bananas\", \"grapes\"))\n",
    "print(list)"
   ]
  }
 ],
 "metadata": {
  "kernelspec": {
   "display_name": ".venv",
   "language": "python",
   "name": "python3"
  },
  "language_info": {
   "codemirror_mode": {
    "name": "ipython",
    "version": 3
   },
   "file_extension": ".py",
   "mimetype": "text/x-python",
   "name": "python",
   "nbconvert_exporter": "python",
   "pygments_lexer": "ipython3",
   "version": "3.11.11"
  }
 },
 "nbformat": 4,
 "nbformat_minor": 2
}
