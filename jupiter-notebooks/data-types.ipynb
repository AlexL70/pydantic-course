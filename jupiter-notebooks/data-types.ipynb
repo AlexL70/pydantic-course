{
 "cells": [
  {
   "cell_type": "code",
   "execution_count": 37,
   "metadata": {},
   "outputs": [],
   "source": [
    "import pydantic\n",
    "from pydantic import BaseModel\n",
    "from datetime import date\n",
    "\n",
    "class Event(BaseModel):\n",
    "    event_date: date"
   ]
  },
  {
   "cell_type": "code",
   "execution_count": 38,
   "metadata": {},
   "outputs": [
    {
     "data": {
      "text/plain": [
       "Event(event_date=datetime.date(2024, 3, 3))"
      ]
     },
     "execution_count": 38,
     "metadata": {},
     "output_type": "execute_result"
    }
   ],
   "source": [
    "try:\n",
    "    event = Event(event_date=\"2024-03-03\")\n",
    "except pydantic.ValidationError as e:\n",
    "    print(e)\n",
    "\n",
    "event"
   ]
  },
  {
   "cell_type": "code",
   "execution_count": 39,
   "metadata": {},
   "outputs": [
    {
     "data": {
      "text/plain": [
       "EventWithTime(event_date=datetime.date(2025, 1, 5), event_time=datetime.time(3, 12))"
      ]
     },
     "execution_count": 39,
     "metadata": {},
     "output_type": "execute_result"
    }
   ],
   "source": [
    "from datetime import time\n",
    "\n",
    "class EventWithTime(BaseModel):\n",
    "    event_date: date\n",
    "    event_time: time\n",
    "    \n",
    "try:\n",
    "    event = EventWithTime(event_date=\"2025-01-05\", event_time=\"03:12\")\n",
    "except pydantic.ValidationError as e:\n",
    "    print(e)\n",
    "\n",
    "event"
   ]
  },
  {
   "cell_type": "code",
   "execution_count": 40,
   "metadata": {},
   "outputs": [
    {
     "data": {
      "text/plain": [
       "'2025-02-04 17:57:11.248124'"
      ]
     },
     "execution_count": 40,
     "metadata": {},
     "output_type": "execute_result"
    }
   ],
   "source": [
    "from datetime import datetime\n",
    "\n",
    "class Appointment(BaseModel):\n",
    "    start_time: datetime\n",
    "    \n",
    "try:\n",
    "    appointment = Appointment(start_time=datetime.now())\n",
    "except pydantic.ValidationError as e:\n",
    "    print(e)\n",
    "    \n",
    "appointment.start_time.__str__()"
   ]
  },
  {
   "cell_type": "code",
   "execution_count": 41,
   "metadata": {},
   "outputs": [
    {
     "data": {
      "text/plain": [
       "[2, 4, 6, 8, 10]"
      ]
     },
     "execution_count": 41,
     "metadata": {},
     "output_type": "execute_result"
    }
   ],
   "source": [
    "[2, 4, 6, 8, 10]"
   ]
  },
  {
   "cell_type": "code",
   "execution_count": 42,
   "metadata": {},
   "outputs": [
    {
     "data": {
      "text/plain": [
       "[2, 4, 6, 8, 10]"
      ]
     },
     "execution_count": 42,
     "metadata": {},
     "output_type": "execute_result"
    }
   ],
   "source": [
    "[x for x in range(1, 11) if x % 2 == 0]"
   ]
  },
  {
   "cell_type": "code",
   "execution_count": 43,
   "metadata": {},
   "outputs": [
    {
     "data": {
      "text/plain": [
       "ShoppingList(items=['apple', 'banana', 'cherry'])"
      ]
     },
     "execution_count": 43,
     "metadata": {},
     "output_type": "execute_result"
    }
   ],
   "source": [
    "from typing import List\n",
    "\n",
    "class ShoppingList(BaseModel):\n",
    "    items: List[str]\n",
    "    \n",
    "try:\n",
    "    shopping_list = ShoppingList(items=[\"apple\", \"banana\", \"cherry\"])\n",
    "except pydantic.ValidationError as e:\n",
    "    print(e)\n",
    "\n",
    "shopping_list"
   ]
  },
  {
   "cell_type": "code",
   "execution_count": 44,
   "metadata": {},
   "outputs": [],
   "source": [
    "from pydantic import Field\n",
    "\n",
    "class ShoppingListWithConstraint(BaseModel):\n",
    "    items: List[str] = Field(max_items=5, min_items=2)"
   ]
  },
  {
   "cell_type": "code",
   "execution_count": 45,
   "metadata": {},
   "outputs": [
    {
     "name": "stdout",
     "output_type": "stream",
     "text": [
      "List validation error: 1 validation error for ShoppingListWithConstraint\n",
      "items\n",
      "  List should have at most 5 items after validation, not 6 [type=too_long, input_value=['apple', 'banana', 'cher...ch', 'apricot', 'melon'], input_type=list]\n",
      "    For further information visit https://errors.pydantic.dev/2.5/v/too_long\n"
     ]
    },
    {
     "data": {
      "text/plain": [
       "ShoppingList(items=['apple', 'banana', 'cherry'])"
      ]
     },
     "execution_count": 45,
     "metadata": {},
     "output_type": "execute_result"
    }
   ],
   "source": [
    "try:\n",
    "    shopping_list = ShoppingListWithConstraint(items=[\n",
    "        \"apple\", \"banana\", \"cherry\",\n",
    "        ##\"peach\", \"apricot\", \n",
    "        \"melon\"])\n",
    "except pydantic.ValidationError as e:\n",
    "    print(\"List validation error:\", e)\n",
    "\n",
    "shopping_list"
   ]
  }
 ],
 "metadata": {
  "kernelspec": {
   "display_name": ".venv",
   "language": "python",
   "name": "python3"
  },
  "language_info": {
   "codemirror_mode": {
    "name": "ipython",
    "version": 3
   },
   "file_extension": ".py",
   "mimetype": "text/x-python",
   "name": "python",
   "nbconvert_exporter": "python",
   "pygments_lexer": "ipython3",
   "version": "3.11.11"
  }
 },
 "nbformat": 4,
 "nbformat_minor": 2
}
