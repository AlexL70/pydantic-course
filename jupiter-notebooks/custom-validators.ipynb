{
 "cells": [
  {
   "cell_type": "markdown",
   "metadata": {
    "notebookRunGroups": {
     "groupValue": "2"
    }
   },
   "source": [
    "Custom Validators"
   ]
  },
  {
   "cell_type": "markdown",
   "metadata": {},
   "source": [
    "Field-Level Validators"
   ]
  },
  {
   "cell_type": "code",
   "execution_count": null,
   "metadata": {},
   "outputs": [
    {
     "name": "stdout",
     "output_type": "stream",
     "text": [
      "name='Alice' age=22\n"
     ]
    }
   ],
   "source": [
    "from pydantic import BaseModel, Field, ValidationError\n",
    "\n",
    "class User(BaseModel):\n",
    "    name: str\n",
    "    age: int = Field(gt=21)\n",
    "    \n",
    "try:\n",
    "    user = User(name=\"Alice\", age=22)\n",
    "    print(user)\n",
    "except ValidationError as e:\n",
    "    print(e)"
   ]
  },
  {
   "cell_type": "code",
   "execution_count": 4,
   "metadata": {},
   "outputs": [
    {
     "name": "stdout",
     "output_type": "stream",
     "text": [
      "name='Alice' age=22\n"
     ]
    }
   ],
   "source": [
    "from pydantic import field_validator\n",
    "\n",
    "class User(BaseModel):\n",
    "    name: str\n",
    "    age: int = Field(gt=0)\n",
    "\n",
    "    @field_validator(\"age\")\n",
    "    @classmethod\n",
    "    def validate_age(cls, v):\n",
    "        if v < 18 or v % 2 != 0:\n",
    "            raise ValueError(\"Age must be even and at least 18.\")\n",
    "        return v\n",
    "\n",
    "try:\n",
    "    user = User(name=\"Alice\", age=22)\n",
    "    # would raise an exception because age is odd\n",
    "    # user = User(name=\"Alice\", age=21)\n",
    "    print(user)\n",
    "except ValueError as e:\n",
    "    print(e)"
   ]
  },
  {
   "cell_type": "markdown",
   "metadata": {},
   "source": [
    "Model-Level Validators"
   ]
  },
  {
   "cell_type": "code",
   "execution_count": 6,
   "metadata": {},
   "outputs": [
    {
     "name": "stdout",
     "output_type": "stream",
     "text": [
      "1 validation error for ScheduledCourse\n",
      "  Value error, Start date must be before end date for the course. [type=value_error, input_value={'start_date': '2025-12-2...end_date': '2025-11-10'}, input_type=dict]\n",
      "    For further information visit https://errors.pydantic.dev/2.5/v/value_error\n"
     ]
    }
   ],
   "source": [
    "from datetime import date\n",
    "from pydantic import BaseModel, ValidationError, model_validator\n",
    "\n",
    "class ScheduledCourse(BaseModel):\n",
    "    department: str\n",
    "    course_number: int\n",
    "    start_date: date\n",
    "    end_date: date\n",
    "    \n",
    "    @model_validator(mode=\"before\")\n",
    "    @classmethod\n",
    "    def validate_dates(cls, data: dict):\n",
    "        if data[\"start_date\"] > data[\"end_date\"]:\n",
    "            raise ValueError(\"Start date must be before end date for the course.\")\n",
    "        return data\n",
    "\n",
    "try:\n",
    "    # custom validator is executed before instantiating an object\n",
    "    # because it is a \"before\" validation. So custom validation exception\n",
    "    # is thrown even if not all mandatory fields are filled in\n",
    "    course = ScheduledCourse(\n",
    "        start_date=\"2025-12-22\",\n",
    "        end_date=\"2025-11-10\"\n",
    "    )\n",
    "    print(course)\n",
    "except ValidationError as e:\n",
    "    print(e)"
   ]
  },
  {
   "cell_type": "code",
   "execution_count": 11,
   "metadata": {},
   "outputs": [
    {
     "name": "stdout",
     "output_type": "stream",
     "text": [
      "1 validation error for ScheduledCourse\n",
      "  Value error, Start date must be before end date for the course. [type=value_error, input_value={'department': 'cs', 'cou...end_date': '2025-11-10'}, input_type=dict]\n",
      "    For further information visit https://errors.pydantic.dev/2.5/v/value_error\n"
     ]
    }
   ],
   "source": [
    "from datetime import date\n",
    "from pydantic import BaseModel, ValidationError, model_validator\n",
    "\n",
    "class ScheduledCourse(BaseModel):\n",
    "    department: str\n",
    "    course_number: int\n",
    "    start_date: date\n",
    "    end_date: date\n",
    "    \n",
    "    @model_validator(mode=\"after\")\n",
    "    def validate_dates(self):\n",
    "        if self.start_date > self.end_date:\n",
    "            raise ValueError(\"Start date must be before end date for the course.\")\n",
    "\n",
    "try:\n",
    "    # we need to provide all mandatory values here in order to run custom validation\n",
    "    # because it is in \"after\" mode, i.e. it needs an instance to be run against\n",
    "    course = ScheduledCourse(\n",
    "        department=\"cs\",\n",
    "        course_number=101,\n",
    "        start_date=\"2025-12-22\",\n",
    "        end_date=\"2025-11-10\"\n",
    "    )\n",
    "    print(course)\n",
    "except ValidationError as e:\n",
    "    print(e)"
   ]
  },
  {
   "cell_type": "markdown",
   "metadata": {},
   "source": [
    "A Closer Look At Error Objects"
   ]
  },
  {
   "cell_type": "code",
   "execution_count": 12,
   "metadata": {},
   "outputs": [
    {
     "data": {
      "text/plain": [
       "True"
      ]
     },
     "execution_count": 12,
     "metadata": {},
     "output_type": "execute_result"
    }
   ],
   "source": [
    "issubclass(ValidationError, ValueError)"
   ]
  },
  {
   "cell_type": "code",
   "execution_count": 13,
   "metadata": {},
   "outputs": [
    {
     "data": {
      "text/plain": [
       "(pydantic_core._pydantic_core.ValidationError,\n",
       " ValueError,\n",
       " Exception,\n",
       " BaseException,\n",
       " object)"
      ]
     },
     "execution_count": 13,
     "metadata": {},
     "output_type": "execute_result"
    }
   ],
   "source": [
    "ValidationError.__mro__"
   ]
  },
  {
   "cell_type": "code",
   "execution_count": 30,
   "metadata": {},
   "outputs": [
    {
     "name": "stdout",
     "output_type": "stream",
     "text": [
      "value_error\n",
      "[{'type': 'value_error', 'loc': ('password',), 'msg': 'Value error, Password must be at least 8 characters long and contains at least one digit.', 'input': 'short', 'ctx': {'error': ValueError('Password must be at least 8 characters long and contains at least one digit.')}, 'url': 'https://errors.pydantic.dev/2.5/v/value_error'}]\n",
      "[\n",
      "  {\n",
      "    \"type\": \"value_error\",\n",
      "    \"loc\": [\n",
      "      \"password\"\n",
      "    ],\n",
      "    \"msg\": \"Value error, Password must be at least 8 characters long and contains at least one digit.\",\n",
      "    \"input\": \"short\",\n",
      "    \"ctx\": {\n",
      "      \"error\": \"Password must be at least 8 characters long and contains at least one digit.\"\n",
      "    },\n",
      "    \"url\": \"https://errors.pydantic.dev/2.5/v/value_error\"\n",
      "  }\n",
      "]\n"
     ]
    }
   ],
   "source": [
    "class User(BaseModel):\n",
    "    username: str\n",
    "    password: str\n",
    "\n",
    "    @field_validator(\"password\")\n",
    "    @classmethod\n",
    "    def validate_password(cls, v):\n",
    "        if len(v) < 8 or not any(char.isdigit() for char in v):\n",
    "            raise ValueError(\"Password must be at least 8 characters long and contains at least one digit.\")\n",
    "\n",
    "try:\n",
    "    user = User(username=\"Alice\", password=\"short\")\n",
    "except ValidationError as e:\n",
    "    print(e.errors()[0][\"type\"])\n",
    "    print(e.errors())\n",
    "    print(e.json(indent=2))"
   ]
  }
 ],
 "metadata": {
  "kernelspec": {
   "display_name": ".venv",
   "language": "python",
   "name": "python3"
  },
  "language_info": {
   "codemirror_mode": {
    "name": "ipython",
    "version": 3
   },
   "file_extension": ".py",
   "mimetype": "text/x-python",
   "name": "python",
   "nbconvert_exporter": "python",
   "pygments_lexer": "ipython3",
   "version": "3.11.11"
  }
 },
 "nbformat": 4,
 "nbformat_minor": 2
}
