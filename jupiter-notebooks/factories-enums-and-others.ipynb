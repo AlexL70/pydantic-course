{
 "cells": [
  {
   "cell_type": "markdown",
   "metadata": {},
   "source": [
    "Optional, Any And Defaults"
   ]
  },
  {
   "cell_type": "code",
   "execution_count": 8,
   "metadata": {},
   "outputs": [
    {
     "name": "stdout",
     "output_type": "stream",
     "text": [
      "1 validation error for User\n",
      "age\n",
      "  Field required [type=missing, input_value={'name': 'Alice'}, input_type=dict]\n",
      "    For further information visit https://errors.pydantic.dev/2.5/v/missing\n"
     ]
    }
   ],
   "source": [
    "from pydantic import BaseModel, ValidationError\n",
    "\n",
    "class User(BaseModel):\n",
    "    name: str\n",
    "    age: int\n",
    "    \n",
    "try:\n",
    "    user1 = User(name=\"Alice\") # exception occurs because age is required\n",
    "    print(user1.age)\n",
    "except ValidationError as e:\n",
    "    print(e)"
   ]
  },
  {
   "cell_type": "code",
   "execution_count": 9,
   "metadata": {},
   "outputs": [
    {
     "name": "stdout",
     "output_type": "stream",
     "text": [
      "None\n"
     ]
    }
   ],
   "source": [
    "from pydantic import BaseModel, ValidationError\n",
    "from typing import Optional\n",
    "\n",
    "class User(BaseModel):\n",
    "    name: str\n",
    "    age: Optional[int] = None\n",
    "    \n",
    "try:\n",
    "    user1 = User(name=\"Alice\")\n",
    "    print(user1.age)\n",
    "except ValidationError as e:\n",
    "    print(e)"
   ]
  },
  {
   "cell_type": "code",
   "execution_count": 10,
   "metadata": {},
   "outputs": [],
   "source": [
    "from typing import Any\n",
    "\n",
    "class Mnemonic(BaseModel):\n",
    "    requiredInt: int\n",
    "    optionalInt: int = 10\n",
    "    optionalNullableInt: Optional[int] = 10\n",
    "    optionalAnyType: Any = 10"
   ]
  },
  {
   "cell_type": "code",
   "execution_count": 11,
   "metadata": {},
   "outputs": [
    {
     "data": {
      "text/plain": [
       "Mnemonic(requiredInt=22, optionalInt=10, optionalNullableInt=None, optionalAnyType='This value could be literally anything including None')"
      ]
     },
     "execution_count": 11,
     "metadata": {},
     "output_type": "execute_result"
    }
   ],
   "source": [
    "m = Mnemonic(requiredInt=22, optionalNullableInt=None,\n",
    "             optionalAnyType=\"This value could be literally anything including None\")\n",
    "m"
   ]
  },
  {
   "cell_type": "markdown",
   "metadata": {},
   "source": [
    "UUIDs And Default Factories"
   ]
  },
  {
   "cell_type": "code",
   "execution_count": 18,
   "metadata": {},
   "outputs": [
    {
     "name": "stdout",
     "output_type": "stream",
     "text": [
      "id=UUID('29aef591-7708-42de-97c2-884fc88fe5de') name='Allison'\n"
     ]
    }
   ],
   "source": [
    "import uuid\n",
    "\n",
    "class User(BaseModel):\n",
    "    id: uuid.UUID\n",
    "    name: str\n",
    "\n",
    "try:\n",
    "    user = User(id=uuid.uuid4(), name=\"Allison\")\n",
    "    # user = User(id=\"asdf-qwer-1234-zxcv\", name=\"Allison\") # would return an exception because valid UUID is expected here\n",
    "    print(user)\n",
    "except ValidationError as e:\n",
    "    print(e)"
   ]
  },
  {
   "cell_type": "code",
   "execution_count": 19,
   "metadata": {},
   "outputs": [
    {
     "name": "stdout",
     "output_type": "stream",
     "text": [
      "id=UUID('0caa0b7a-98a2-419d-a9cd-c7468aa0237a') name='Allison'\n",
      "id=UUID('885a6bf7-44f5-46b8-b9d0-152155585a05') name='Bob'\n"
     ]
    }
   ],
   "source": [
    "from pydantic import Field\n",
    "class User(BaseModel):\n",
    "    id: uuid.UUID = Field(default_factory=uuid.uuid4) \n",
    "    #id: uuid.UUID = Field(default_factory=lambda: uuid.uuid4()) # using lambda is also possible here, though a bit longer\n",
    "    name: str\n",
    "\n",
    "try:\n",
    "    user = User(name=\"Allison\")\n",
    "    print(user)\n",
    "    user = User(id = uuid.uuid4(), name=\"Bob\") # we still can assign id explicitly\n",
    "    print(user)\n",
    "except ValidationError as e:\n",
    "    print(e)"
   ]
  },
  {
   "cell_type": "markdown",
   "metadata": {},
   "source": [
    "Immutable attributes"
   ]
  },
  {
   "cell_type": "code",
   "execution_count": 22,
   "metadata": {},
   "outputs": [
    {
     "name": "stdout",
     "output_type": "stream",
     "text": [
      "1 validation error for User\n",
      "name\n",
      "  Instance is frozen [type=frozen_instance, input_value='Billy', input_type=str]\n",
      "    For further information visit https://errors.pydantic.dev/2.5/v/frozen_instance\n"
     ]
    }
   ],
   "source": [
    "from pydantic import BaseModel, ValidationError\n",
    "\n",
    "class User(BaseModel):\n",
    "    name: str\n",
    "    age: int\n",
    "\n",
    "    class Config:\n",
    "        frozen = True\n",
    "\n",
    "try:\n",
    "    user = User(name=\"Alice\", age=22)\n",
    "    user.name = \"Billy\"\n",
    "    print(user.name)\n",
    "except ValidationError as e:\n",
    "    print(e)"
   ]
  },
  {
   "cell_type": "code",
   "execution_count": 23,
   "metadata": {},
   "outputs": [
    {
     "name": "stdout",
     "output_type": "stream",
     "text": [
      "1 validation error for User\n",
      "name\n",
      "  Instance is frozen [type=frozen_instance, input_value='Billy', input_type=str]\n",
      "    For further information visit https://errors.pydantic.dev/2.5/v/frozen_instance\n"
     ]
    }
   ],
   "source": [
    "from pydantic import BaseModel, ValidationError, ConfigDict\n",
    "\n",
    "class User(BaseModel):\n",
    "    model_config: ConfigDict = {\"frozen\": True}\n",
    "    name: str\n",
    "    age: int\n",
    "\n",
    "try:\n",
    "    user = User(name=\"Alice\", age=22)\n",
    "    user.name = \"Billy\"\n",
    "    print(user.name)\n",
    "except ValidationError as e:\n",
    "    print(e)"
   ]
  },
  {
   "cell_type": "code",
   "execution_count": 28,
   "metadata": {},
   "outputs": [
    {
     "name": "stdout",
     "output_type": "stream",
     "text": [
      "1 validation error for User\n",
      "id\n",
      "  Field is frozen [type=frozen_field, input_value=UUID('e847fe9d-06b4-4a58-8e42-be885dff2a1e'), input_type=UUID]\n",
      "    For further information visit https://errors.pydantic.dev/2.5/v/frozen_field\n"
     ]
    }
   ],
   "source": [
    "from pydantic import BaseModel, ValidationError\n",
    "import uuid\n",
    "\n",
    "class User(BaseModel):\n",
    "    id: int = Field(default_factory=uuid.uuid4, frozen=True)\n",
    "    name: str\n",
    "    age: int\n",
    "\n",
    "try:\n",
    "    user = User(name=\"Alice\", age=22)\n",
    "    user.id = uuid.uuid4()\n",
    "    print(user)\n",
    "except ValidationError as e:\n",
    "    print(e)"
   ]
  },
  {
   "cell_type": "markdown",
   "metadata": {},
   "source": [
    "Additional properties"
   ]
  },
  {
   "cell_type": "code",
   "execution_count": 32,
   "metadata": {},
   "outputs": [
    {
     "name": "stdout",
     "output_type": "stream",
     "text": [
      "id=UUID('37ea816c-94fc-44aa-9613-d110ad68acff') name='Chair'\n"
     ]
    }
   ],
   "source": [
    "from pydantic import BaseModel, Field\n",
    "from uuid import UUID, uuid4\n",
    "\n",
    "class Product(BaseModel):\n",
    "    id: UUID = Field(frozen=True, default_factory=uuid4)\n",
    "    name: str\n",
    "\n",
    "try:\n",
    "    product = Product(name=\"Chair\", price=202.4) # pydantic just ignores irrelevant property\n",
    "    print(product)\n",
    "except ValueError as e:\n",
    "    print(e)"
   ]
  },
  {
   "cell_type": "code",
   "execution_count": 37,
   "metadata": {},
   "outputs": [
    {
     "name": "stdout",
     "output_type": "stream",
     "text": [
      "1 validation error for Product\n",
      "price\n",
      "  Extra inputs are not permitted [type=extra_forbidden, input_value=202.4, input_type=float]\n",
      "    For further information visit https://errors.pydantic.dev/2.5/v/extra_forbidden\n"
     ]
    }
   ],
   "source": [
    "from pydantic import BaseModel, Field\n",
    "from uuid import UUID, uuid4\n",
    "\n",
    "class Product(BaseModel):\n",
    "    # model_config: ConfigDict = {\"extra\": \"ignore\"} # default value\n",
    "    model_config: ConfigDict = {\"extra\": \"forbid\"}\n",
    "    id: UUID = Field(frozen=True, default_factory=uuid4)\n",
    "    name: str\n",
    "\n",
    "try:\n",
    "    # pydantic raises an exception because extra attributes are explicitly forbidden by config\n",
    "    product = Product(name=\"Chair\", price=202.4) \n",
    "    print(product)\n",
    "except ValidationError as e:\n",
    "    print(e)"
   ]
  },
  {
   "cell_type": "code",
   "execution_count": 39,
   "metadata": {},
   "outputs": [
    {
     "name": "stdout",
     "output_type": "stream",
     "text": [
      "id=UUID('e44093cc-28ef-4ba3-ab9d-610d6af8a856') name='Chair' price=202.4 weight=33\n"
     ]
    }
   ],
   "source": [
    "from pydantic import BaseModel, Field\n",
    "from uuid import UUID, uuid4\n",
    "\n",
    "class Product(BaseModel):\n",
    "    # model_config: ConfigDict = {\"extra\": \"ignore\"} # default value\n",
    "    model_config: ConfigDict = {\"extra\": \"allow\"}\n",
    "    id: UUID = Field(frozen=True, default_factory=uuid4)\n",
    "    name: str\n",
    "\n",
    "try:\n",
    "    # pydantic raises no exception because extra attributes are explicitly allowed by config\n",
    "    product = Product(name=\"Chair\", price=202.4, weight=33) \n",
    "    # additional attributes are printed\n",
    "    print(product)\n",
    "except ValidationError as e:\n",
    "    print(e)"
   ]
  }
 ],
 "metadata": {
  "kernelspec": {
   "display_name": ".venv",
   "language": "python",
   "name": "python3"
  },
  "language_info": {
   "codemirror_mode": {
    "name": "ipython",
    "version": 3
   },
   "file_extension": ".py",
   "mimetype": "text/x-python",
   "name": "python",
   "nbconvert_exporter": "python",
   "pygments_lexer": "ipython3",
   "version": "3.11.11"
  }
 },
 "nbformat": 4,
 "nbformat_minor": 2
}
