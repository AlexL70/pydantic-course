{
 "cells": [
  {
   "cell_type": "markdown",
   "metadata": {},
   "source": [
    "Optional, Any And Defaults"
   ]
  },
  {
   "cell_type": "code",
   "execution_count": 77,
   "metadata": {},
   "outputs": [
    {
     "name": "stdout",
     "output_type": "stream",
     "text": [
      "1 validation error for User\n",
      "age\n",
      "  Field required [type=missing, input_value={'name': 'Alice'}, input_type=dict]\n",
      "    For further information visit https://errors.pydantic.dev/2.5/v/missing\n"
     ]
    }
   ],
   "source": [
    "from pydantic import BaseModel, ValidationError\n",
    "\n",
    "class User(BaseModel):\n",
    "    name: str\n",
    "    age: int\n",
    "    \n",
    "try:\n",
    "    user1 = User(name=\"Alice\") # exception occurs because age is required\n",
    "    print(user1.age)\n",
    "except ValidationError as e:\n",
    "    print(e)"
   ]
  },
  {
   "cell_type": "code",
   "execution_count": 78,
   "metadata": {},
   "outputs": [
    {
     "name": "stdout",
     "output_type": "stream",
     "text": [
      "None\n"
     ]
    }
   ],
   "source": [
    "from pydantic import BaseModel, ValidationError\n",
    "from typing import Optional\n",
    "\n",
    "class User(BaseModel):\n",
    "    name: str\n",
    "    age: Optional[int] = None\n",
    "    \n",
    "try:\n",
    "    user1 = User(name=\"Alice\")\n",
    "    print(user1.age)\n",
    "except ValidationError as e:\n",
    "    print(e)"
   ]
  },
  {
   "cell_type": "code",
   "execution_count": 79,
   "metadata": {},
   "outputs": [],
   "source": [
    "from typing import Any\n",
    "\n",
    "class Mnemonic(BaseModel):\n",
    "    requiredInt: int\n",
    "    optionalInt: int = 10\n",
    "    optionalNullableInt: Optional[int] = 10\n",
    "    optionalAnyType: Any = 10"
   ]
  },
  {
   "cell_type": "code",
   "execution_count": 80,
   "metadata": {},
   "outputs": [
    {
     "data": {
      "text/plain": [
       "Mnemonic(requiredInt=22, optionalInt=10, optionalNullableInt=None, optionalAnyType='This value could be literally anything including None')"
      ]
     },
     "execution_count": 80,
     "metadata": {},
     "output_type": "execute_result"
    }
   ],
   "source": [
    "m = Mnemonic(requiredInt=22, optionalNullableInt=None,\n",
    "             optionalAnyType=\"This value could be literally anything including None\")\n",
    "m"
   ]
  },
  {
   "cell_type": "markdown",
   "metadata": {},
   "source": [
    "UUIDs And Default Factories"
   ]
  },
  {
   "cell_type": "code",
   "execution_count": 81,
   "metadata": {},
   "outputs": [
    {
     "name": "stdout",
     "output_type": "stream",
     "text": [
      "id=UUID('31d95cf5-021d-4783-bec8-e04f795507d8') name='Allison'\n"
     ]
    }
   ],
   "source": [
    "import uuid\n",
    "\n",
    "class User(BaseModel):\n",
    "    id: uuid.UUID\n",
    "    name: str\n",
    "\n",
    "try:\n",
    "    user = User(id=uuid.uuid4(), name=\"Allison\")\n",
    "    # user = User(id=\"asdf-qwer-1234-zxcv\", name=\"Allison\") # would return an exception because valid UUID is expected here\n",
    "    print(user)\n",
    "except ValidationError as e:\n",
    "    print(e)"
   ]
  },
  {
   "cell_type": "code",
   "execution_count": 82,
   "metadata": {},
   "outputs": [
    {
     "name": "stdout",
     "output_type": "stream",
     "text": [
      "id=UUID('e0bad788-d998-44b4-ad53-4a8812007e0b') name='Allison'\n",
      "id=UUID('04d06756-c785-4733-9a96-3624fa5cf4e9') name='Bob'\n"
     ]
    }
   ],
   "source": [
    "from pydantic import Field\n",
    "class User(BaseModel):\n",
    "    id: uuid.UUID = Field(default_factory=uuid.uuid4) \n",
    "    #id: uuid.UUID = Field(default_factory=lambda: uuid.uuid4()) # using lambda is also possible here, though a bit longer\n",
    "    name: str\n",
    "\n",
    "try:\n",
    "    user = User(name=\"Allison\")\n",
    "    print(user)\n",
    "    user = User(id = uuid.uuid4(), name=\"Bob\") # we still can assign id explicitly\n",
    "    print(user)\n",
    "except ValidationError as e:\n",
    "    print(e)"
   ]
  },
  {
   "cell_type": "markdown",
   "metadata": {},
   "source": [
    "Immutable attributes"
   ]
  },
  {
   "cell_type": "code",
   "execution_count": 83,
   "metadata": {},
   "outputs": [
    {
     "name": "stdout",
     "output_type": "stream",
     "text": [
      "1 validation error for User\n",
      "name\n",
      "  Instance is frozen [type=frozen_instance, input_value='Billy', input_type=str]\n",
      "    For further information visit https://errors.pydantic.dev/2.5/v/frozen_instance\n"
     ]
    }
   ],
   "source": [
    "from pydantic import BaseModel, ValidationError\n",
    "\n",
    "class User(BaseModel):\n",
    "    name: str\n",
    "    age: int\n",
    "\n",
    "    class Config:\n",
    "        frozen = True\n",
    "\n",
    "try:\n",
    "    user = User(name=\"Alice\", age=22)\n",
    "    user.name = \"Billy\"\n",
    "    print(user.name)\n",
    "except ValidationError as e:\n",
    "    print(e)"
   ]
  },
  {
   "cell_type": "code",
   "execution_count": 84,
   "metadata": {},
   "outputs": [
    {
     "name": "stdout",
     "output_type": "stream",
     "text": [
      "1 validation error for User\n",
      "name\n",
      "  Instance is frozen [type=frozen_instance, input_value='Billy', input_type=str]\n",
      "    For further information visit https://errors.pydantic.dev/2.5/v/frozen_instance\n"
     ]
    }
   ],
   "source": [
    "from pydantic import BaseModel, ValidationError, ConfigDict\n",
    "\n",
    "class User(BaseModel):\n",
    "    model_config: ConfigDict = {\"frozen\": True}\n",
    "    name: str\n",
    "    age: int\n",
    "\n",
    "try:\n",
    "    user = User(name=\"Alice\", age=22)\n",
    "    user.name = \"Billy\"\n",
    "    print(user.name)\n",
    "except ValidationError as e:\n",
    "    print(e)"
   ]
  },
  {
   "cell_type": "code",
   "execution_count": 85,
   "metadata": {},
   "outputs": [
    {
     "name": "stdout",
     "output_type": "stream",
     "text": [
      "1 validation error for User\n",
      "id\n",
      "  Field is frozen [type=frozen_field, input_value=UUID('f2b9f684-8aa0-48e0-8fec-3ae0e6122dac'), input_type=UUID]\n",
      "    For further information visit https://errors.pydantic.dev/2.5/v/frozen_field\n"
     ]
    }
   ],
   "source": [
    "from pydantic import BaseModel, ValidationError\n",
    "import uuid\n",
    "\n",
    "class User(BaseModel):\n",
    "    id: int = Field(default_factory=uuid.uuid4, frozen=True)\n",
    "    name: str\n",
    "    age: int\n",
    "\n",
    "try:\n",
    "    user = User(name=\"Alice\", age=22)\n",
    "    user.id = uuid.uuid4()\n",
    "    print(user)\n",
    "except ValidationError as e:\n",
    "    print(e)"
   ]
  },
  {
   "cell_type": "markdown",
   "metadata": {},
   "source": [
    "Additional properties"
   ]
  },
  {
   "cell_type": "code",
   "execution_count": 86,
   "metadata": {},
   "outputs": [
    {
     "name": "stdout",
     "output_type": "stream",
     "text": [
      "id=UUID('3a621c88-44e6-4db6-ab83-1aedcfb9b6de') name='Chair'\n"
     ]
    }
   ],
   "source": [
    "from pydantic import BaseModel, Field\n",
    "from uuid import UUID, uuid4\n",
    "\n",
    "class Product(BaseModel):\n",
    "    id: UUID = Field(frozen=True, default_factory=uuid4)\n",
    "    name: str\n",
    "\n",
    "try:\n",
    "    product = Product(name=\"Chair\", price=202.4) # pydantic just ignores irrelevant property\n",
    "    print(product)\n",
    "except ValueError as e:\n",
    "    print(e)"
   ]
  },
  {
   "cell_type": "code",
   "execution_count": 87,
   "metadata": {},
   "outputs": [
    {
     "name": "stdout",
     "output_type": "stream",
     "text": [
      "1 validation error for Product\n",
      "price\n",
      "  Extra inputs are not permitted [type=extra_forbidden, input_value=202.4, input_type=float]\n",
      "    For further information visit https://errors.pydantic.dev/2.5/v/extra_forbidden\n"
     ]
    }
   ],
   "source": [
    "from pydantic import BaseModel, Field\n",
    "from uuid import UUID, uuid4\n",
    "\n",
    "class Product(BaseModel):\n",
    "    # model_config: ConfigDict = {\"extra\": \"ignore\"} # default value\n",
    "    model_config: ConfigDict = {\"extra\": \"forbid\"}\n",
    "    id: UUID = Field(frozen=True, default_factory=uuid4)\n",
    "    name: str\n",
    "\n",
    "try:\n",
    "    # pydantic raises an exception because extra attributes are explicitly forbidden by config\n",
    "    product = Product(name=\"Chair\", price=202.4) \n",
    "    print(product)\n",
    "except ValidationError as e:\n",
    "    print(e)"
   ]
  },
  {
   "cell_type": "code",
   "execution_count": 88,
   "metadata": {},
   "outputs": [
    {
     "name": "stdout",
     "output_type": "stream",
     "text": [
      "id=UUID('22ade4ba-3f71-4932-b6ad-d1a1a33aa547') name='Chair' price=202.4 weight=33\n"
     ]
    }
   ],
   "source": [
    "from pydantic import BaseModel, Field\n",
    "from uuid import UUID, uuid4\n",
    "\n",
    "class Product(BaseModel):\n",
    "    # model_config: ConfigDict = {\"extra\": \"ignore\"} # default value\n",
    "    model_config: ConfigDict = {\"extra\": \"allow\"}\n",
    "    id: UUID = Field(frozen=True, default_factory=uuid4)\n",
    "    name: str\n",
    "\n",
    "try:\n",
    "    # pydantic raises no exception because extra attributes are explicitly allowed by config\n",
    "    product = Product(name=\"Chair\", price=202.4, weight=33) \n",
    "    # additional attributes are printed\n",
    "    print(product)\n",
    "except ValidationError as e:\n",
    "    print(e)"
   ]
  },
  {
   "cell_type": "markdown",
   "metadata": {},
   "source": [
    "Enumerations"
   ]
  },
  {
   "cell_type": "code",
   "execution_count": 89,
   "metadata": {},
   "outputs": [
    {
     "name": "stdout",
     "output_type": "stream",
     "text": [
      "name='chair' color=<Color.RED: 'red'>\n"
     ]
    }
   ],
   "source": [
    "from enum import Enum\n",
    "\n",
    "class Color(Enum):\n",
    "    RED = \"red\"\n",
    "    GREEN = \"green\"\n",
    "    BLUE = \"blue\"\n",
    "\n",
    "Color.GREEN\n",
    "\n",
    "class Item(BaseModel):\n",
    "    name: str\n",
    "    color: Color\n",
    "\n",
    "try:\n",
    "    item = Item(name=\"chair\", color=\"red\")\n",
    "    # pydantic would raise an exception because \"pink\" is not a part of the Color enum\n",
    "    # item = Item(name=\"chair\", color=\"pink\")\n",
    "    print(item)\n",
    "except ValidationError as e:\n",
    "    print(e)"
   ]
  },
  {
   "cell_type": "markdown",
   "metadata": {},
   "source": [
    "For Better Performance: Literals"
   ]
  },
  {
   "cell_type": "code",
   "execution_count": 90,
   "metadata": {},
   "outputs": [
    {
     "name": "stdout",
     "output_type": "stream",
     "text": [
      "name='Chair' color='red'\n"
     ]
    }
   ],
   "source": [
    "from typing import Literal, Type\n",
    "from pydantic import BaseModel, ValidationError\n",
    "\n",
    "TrafficLight = Literal[\"red\", \"green\", \"blue\"]\n",
    "\n",
    "class ItemWithLiteral(BaseModel):\n",
    "    name: str\n",
    "    color: TrafficLight\n",
    "\n",
    "try:\n",
    "    item = ItemWithLiteral(name=\"Chair\", color=\"red\")\n",
    "    # would cause an exception because \"grey\" is not a part of literal\n",
    "    # item = ItemWithLiteral(name=\"Table\", color=\"grey\")\n",
    "    print(item)\n",
    "except ValidationError as e:\n",
    "    print(e)"
   ]
  },
  {
   "cell_type": "code",
   "execution_count": 100,
   "metadata": {},
   "outputs": [
    {
     "name": "stdout",
     "output_type": "stream",
     "text": [
      "Check literal: 0.003871107999657397\n",
      "Check enum:    0.011906678999366704\n"
     ]
    }
   ],
   "source": [
    "# Demonstrate that literals are by far quicker than enums\n",
    "from pydantic import TypeAdapter\n",
    "from timeit import timeit\n",
    "\n",
    "literal = Literal[\"red\", \"green\", \"blue\"]\n",
    "class Color(Enum):\n",
    "    RED = \"red\"\n",
    "    GREEN = \"green\"\n",
    "    BLUE = \"blue\"\n",
    "\n",
    "lit_adapter = TypeAdapter(literal)\n",
    "enum_adapter = TypeAdapter(Color)\n",
    "\n",
    "print(\"Check literal:\", timeit(lambda: lit_adapter.validate_python(\"red\"), number=10000))\n",
    "print(\"Check enum:   \", timeit(lambda: enum_adapter.validate_python(\"red\"), number=10000))"
   ]
  }
 ],
 "metadata": {
  "kernelspec": {
   "display_name": ".venv",
   "language": "python",
   "name": "python3"
  },
  "language_info": {
   "codemirror_mode": {
    "name": "ipython",
    "version": 3
   },
   "file_extension": ".py",
   "mimetype": "text/x-python",
   "name": "python",
   "nbconvert_exporter": "python",
   "pygments_lexer": "ipython3",
   "version": "3.11.11"
  }
 },
 "nbformat": 4,
 "nbformat_minor": 2
}
