{
 "cells": [
  {
   "cell_type": "markdown",
   "metadata": {},
   "source": [
    "Model Serialization And Deserialization"
   ]
  },
  {
   "cell_type": "markdown",
   "metadata": {},
   "source": [
    "Instance Serialization To Dict And JSON"
   ]
  },
  {
   "cell_type": "code",
   "execution_count": 2,
   "metadata": {},
   "outputs": [
    {
     "name": "stdout",
     "output_type": "stream",
     "text": [
      "{'department': 'CS', 'course_number': 101, 'start_date': datetime.date(2025, 1, 23), 'end_date': datetime.date(2025, 9, 23)}\n",
      "{\n",
      "  \"department\": \"CS\",\n",
      "  \"course_number\": 101,\n",
      "  \"start_date\": \"2025-01-23\",\n",
      "  \"end_date\": \"2025-09-23\"\n",
      "}\n"
     ]
    }
   ],
   "source": [
    "from datetime import date\n",
    "from pydantic import BaseModel, model_validator\n",
    "\n",
    "class ScheduledCourse(BaseModel):\n",
    "    department: str\n",
    "    course_number: int\n",
    "    start_date: date\n",
    "    end_date: date\n",
    "    \n",
    "    @model_validator(mode=\"after\")\n",
    "    def validate_dates(self):\n",
    "        if self.start_date > self.end_date:\n",
    "            raise ValueError(\"Start date must be before end date.\")\n",
    "        return self\n",
    "\n",
    "        \n",
    "course = ScheduledCourse(\n",
    "    department=\"CS\",\n",
    "    course_number=101,\n",
    "    start_date=\"2025-01-23\",\n",
    "    end_date=\"2025-09-23\"\n",
    ")\n",
    "\n",
    "dictCourse = course.model_dump()\n",
    "print(dictCourse)\n",
    "jsonCourse = course.model_dump_json(indent=2)\n",
    "print(jsonCourse)"
   ]
  }
 ],
 "metadata": {
  "kernelspec": {
   "display_name": ".venv",
   "language": "python",
   "name": "python3"
  },
  "language_info": {
   "codemirror_mode": {
    "name": "ipython",
    "version": 3
   },
   "file_extension": ".py",
   "mimetype": "text/x-python",
   "name": "python",
   "nbconvert_exporter": "python",
   "pygments_lexer": "ipython3",
   "version": "3.11.11"
  }
 },
 "nbformat": 4,
 "nbformat_minor": 2
}
