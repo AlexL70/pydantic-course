{
 "cells": [
  {
   "cell_type": "markdown",
   "metadata": {},
   "source": [
    "Model Serialization And Deserialization"
   ]
  },
  {
   "cell_type": "markdown",
   "metadata": {},
   "source": [
    "Instance Serialization To Dict And JSON"
   ]
  },
  {
   "cell_type": "code",
   "execution_count": 2,
   "metadata": {},
   "outputs": [
    {
     "name": "stdout",
     "output_type": "stream",
     "text": [
      "{'department': 'CS', 'course_number': 101, 'start_date': datetime.date(2025, 1, 23), 'end_date': datetime.date(2025, 9, 23)}\n",
      "{\n",
      "  \"department\": \"CS\",\n",
      "  \"course_number\": 101,\n",
      "  \"start_date\": \"2025-01-23\",\n",
      "  \"end_date\": \"2025-09-23\"\n",
      "}\n"
     ]
    }
   ],
   "source": [
    "from datetime import date\n",
    "from pydantic import BaseModel, model_validator\n",
    "\n",
    "class ScheduledCourse(BaseModel):\n",
    "    department: str\n",
    "    course_number: int\n",
    "    start_date: date\n",
    "    end_date: date\n",
    "    \n",
    "    @model_validator(mode=\"after\")\n",
    "    def validate_dates(self):\n",
    "        if self.start_date > self.end_date:\n",
    "            raise ValueError(\"Start date must be before end date.\")\n",
    "        return self\n",
    "\n",
    "        \n",
    "course = ScheduledCourse(\n",
    "    department=\"CS\",\n",
    "    course_number=101,\n",
    "    start_date=\"2025-01-23\",\n",
    "    end_date=\"2025-09-23\"\n",
    ")\n",
    "\n",
    "dictCourse = course.model_dump()\n",
    "print(dictCourse)\n",
    "jsonCourse = course.model_dump_json(indent=2)\n",
    "print(jsonCourse)"
   ]
  },
  {
   "cell_type": "markdown",
   "metadata": {},
   "source": [
    "Field Exclusions"
   ]
  },
  {
   "cell_type": "code",
   "execution_count": 4,
   "metadata": {},
   "outputs": [
    {
     "name": "stdout",
     "output_type": "stream",
     "text": [
      "{'department': 'CS', 'course_number': 101, 'start_date': datetime.date(2025, 1, 23), 'end_date': datetime.date(2025, 9, 23)}\n",
      "{\n",
      "  \"start_date\": \"2025-01-23\",\n",
      "  \"end_date\": \"2025-09-23\"\n",
      "}\n",
      "{\n",
      "  \"department\": \"CS\",\n",
      "  \"course_number\": 101\n",
      "}\n"
     ]
    }
   ],
   "source": [
    "from datetime import date\n",
    "from pydantic import BaseModel, model_validator\n",
    "\n",
    "class ScheduledCourse(BaseModel):\n",
    "    department: str\n",
    "    course_number: int\n",
    "    start_date: date\n",
    "    end_date: date\n",
    "    \n",
    "    @model_validator(mode=\"after\")\n",
    "    def validate_dates(self):\n",
    "        if self.start_date > self.end_date:\n",
    "            raise ValueError(\"Start date must be before end date.\")\n",
    "        return self\n",
    "\n",
    "        \n",
    "course = ScheduledCourse(\n",
    "    department=\"CS\",\n",
    "    course_number=101,\n",
    "    start_date=\"2025-01-23\",\n",
    "    end_date=\"2025-09-23\"\n",
    ")\n",
    "\n",
    "dictCourse = course.model_dump()\n",
    "print(dictCourse)\n",
    "jsonCourse = course.model_dump_json(indent=2, exclude={\"department\", \"course_number\"})\n",
    "print(jsonCourse)\n",
    "jsonCourse = course.model_dump_json(indent=2, include={\"department\", \"course_number\"})\n",
    "print(jsonCourse)\n"
   ]
  },
  {
   "cell_type": "code",
   "execution_count": 6,
   "metadata": {},
   "outputs": [
    {
     "name": "stdout",
     "output_type": "stream",
     "text": [
      "{\n",
      "  \"course_number\": 101,\n",
      "  \"end_date\": \"2026-09-23\"\n",
      "}\n"
     ]
    }
   ],
   "source": [
    "from datetime import date\n",
    "from pydantic import BaseModel, model_validator\n",
    "\n",
    "class ScheduledCourse(BaseModel):\n",
    "    department: str = \"undefined\"\n",
    "    course_number: int\n",
    "    start_date: date = date.today()\n",
    "    end_date: date\n",
    "    \n",
    "    @model_validator(mode=\"after\")\n",
    "    def validate_dates(self):\n",
    "        if self.start_date > self.end_date:\n",
    "            raise ValueError(\"Start date must be before end date.\")\n",
    "        return self\n",
    "\n",
    "        \n",
    "course = ScheduledCourse(\n",
    "    course_number=101,\n",
    "    end_date=\"2026-09-23\"\n",
    ")\n",
    "\n",
    "# serialize only values that were set explicitly and omit defaults\n",
    "jsonCourse = course.model_dump_json(indent=2, exclude_unset=True)\n",
    "print(jsonCourse)"
   ]
  },
  {
   "cell_type": "code",
   "execution_count": 9,
   "metadata": {},
   "outputs": [
    {
     "name": "stdout",
     "output_type": "stream",
     "text": [
      "{\n",
      "  \"department\": \"undefined\",\n",
      "  \"course_number\": 101,\n",
      "  \"end_date\": \"2026-01-01\"\n",
      "}\n",
      "{\n",
      "  \"course_number\": 101,\n",
      "  \"end_date\": \"2026-01-01\"\n",
      "}\n"
     ]
    }
   ],
   "source": [
    "course = ScheduledCourse(\n",
    "    course_number=101,\n",
    "    end_date=\"2026-01-01\",\n",
    "    department=\"undefined\"\n",
    ")\n",
    "\n",
    "# prints department because it was set\n",
    "jsonCourse = course.model_dump_json(indent=2, exclude_unset=True)\n",
    "print(jsonCourse)\n",
    "# does not print department because it has a default value\n",
    "jsonCourse = course.model_dump_json(indent=2, exclude_defaults=True)\n",
    "print(jsonCourse)"
   ]
  },
  {
   "cell_type": "code",
   "execution_count": null,
   "metadata": {},
   "outputs": [],
   "source": []
  }
 ],
 "metadata": {
  "kernelspec": {
   "display_name": ".venv",
   "language": "python",
   "name": "python3"
  },
  "language_info": {
   "codemirror_mode": {
    "name": "ipython",
    "version": 3
   },
   "file_extension": ".py",
   "mimetype": "text/x-python",
   "name": "python",
   "nbconvert_exporter": "python",
   "pygments_lexer": "ipython3",
   "version": "3.11.11"
  }
 },
 "nbformat": 4,
 "nbformat_minor": 2
}
