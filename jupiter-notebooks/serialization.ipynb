{
 "cells": [
  {
   "cell_type": "markdown",
   "metadata": {},
   "source": [
    "Model Serialization And Deserialization"
   ]
  },
  {
   "cell_type": "markdown",
   "metadata": {},
   "source": [
    "Instance Serialization To Dict And JSON"
   ]
  },
  {
   "cell_type": "code",
   "execution_count": 2,
   "metadata": {},
   "outputs": [
    {
     "name": "stdout",
     "output_type": "stream",
     "text": [
      "{'department': 'CS', 'course_number': 101, 'start_date': datetime.date(2025, 1, 23), 'end_date': datetime.date(2025, 9, 23)}\n",
      "{\n",
      "  \"department\": \"CS\",\n",
      "  \"course_number\": 101,\n",
      "  \"start_date\": \"2025-01-23\",\n",
      "  \"end_date\": \"2025-09-23\"\n",
      "}\n"
     ]
    }
   ],
   "source": [
    "from datetime import date\n",
    "from pydantic import BaseModel, model_validator\n",
    "\n",
    "class ScheduledCourse(BaseModel):\n",
    "    department: str\n",
    "    course_number: int\n",
    "    start_date: date\n",
    "    end_date: date\n",
    "    \n",
    "    @model_validator(mode=\"after\")\n",
    "    def validate_dates(self):\n",
    "        if self.start_date > self.end_date:\n",
    "            raise ValueError(\"Start date must be before end date.\")\n",
    "        return self\n",
    "\n",
    "        \n",
    "course = ScheduledCourse(\n",
    "    department=\"CS\",\n",
    "    course_number=101,\n",
    "    start_date=\"2025-01-23\",\n",
    "    end_date=\"2025-09-23\"\n",
    ")\n",
    "\n",
    "dictCourse = course.model_dump()\n",
    "print(dictCourse)\n",
    "jsonCourse = course.model_dump_json(indent=2)\n",
    "print(jsonCourse)"
   ]
  },
  {
   "cell_type": "markdown",
   "metadata": {},
   "source": [
    "Field Exclusions"
   ]
  },
  {
   "cell_type": "code",
   "execution_count": 4,
   "metadata": {},
   "outputs": [
    {
     "name": "stdout",
     "output_type": "stream",
     "text": [
      "{'department': 'CS', 'course_number': 101, 'start_date': datetime.date(2025, 1, 23), 'end_date': datetime.date(2025, 9, 23)}\n",
      "{\n",
      "  \"start_date\": \"2025-01-23\",\n",
      "  \"end_date\": \"2025-09-23\"\n",
      "}\n",
      "{\n",
      "  \"department\": \"CS\",\n",
      "  \"course_number\": 101\n",
      "}\n"
     ]
    }
   ],
   "source": [
    "from datetime import date\n",
    "from pydantic import BaseModel, model_validator\n",
    "\n",
    "class ScheduledCourse(BaseModel):\n",
    "    department: str\n",
    "    course_number: int\n",
    "    start_date: date\n",
    "    end_date: date\n",
    "    \n",
    "    @model_validator(mode=\"after\")\n",
    "    def validate_dates(self):\n",
    "        if self.start_date > self.end_date:\n",
    "            raise ValueError(\"Start date must be before end date.\")\n",
    "        return self\n",
    "\n",
    "        \n",
    "course = ScheduledCourse(\n",
    "    department=\"CS\",\n",
    "    course_number=101,\n",
    "    start_date=\"2025-01-23\",\n",
    "    end_date=\"2025-09-23\"\n",
    ")\n",
    "\n",
    "dictCourse = course.model_dump()\n",
    "print(dictCourse)\n",
    "jsonCourse = course.model_dump_json(indent=2, exclude={\"department\", \"course_number\"})\n",
    "print(jsonCourse)\n",
    "jsonCourse = course.model_dump_json(indent=2, include={\"department\", \"course_number\"})\n",
    "print(jsonCourse)\n"
   ]
  },
  {
   "cell_type": "code",
   "execution_count": 6,
   "metadata": {},
   "outputs": [
    {
     "name": "stdout",
     "output_type": "stream",
     "text": [
      "{\n",
      "  \"course_number\": 101,\n",
      "  \"end_date\": \"2026-09-23\"\n",
      "}\n"
     ]
    }
   ],
   "source": [
    "from datetime import date\n",
    "from pydantic import BaseModel, model_validator\n",
    "\n",
    "class ScheduledCourse(BaseModel):\n",
    "    department: str = \"undefined\"\n",
    "    course_number: int\n",
    "    start_date: date = date.today()\n",
    "    end_date: date\n",
    "    \n",
    "    @model_validator(mode=\"after\")\n",
    "    def validate_dates(self):\n",
    "        if self.start_date > self.end_date:\n",
    "            raise ValueError(\"Start date must be before end date.\")\n",
    "        return self\n",
    "\n",
    "        \n",
    "course = ScheduledCourse(\n",
    "    course_number=101,\n",
    "    end_date=\"2026-09-23\"\n",
    ")\n",
    "\n",
    "# serialize only values that were set explicitly and omit defaults\n",
    "jsonCourse = course.model_dump_json(indent=2, exclude_unset=True)\n",
    "print(jsonCourse)"
   ]
  },
  {
   "cell_type": "code",
   "execution_count": 9,
   "metadata": {},
   "outputs": [
    {
     "name": "stdout",
     "output_type": "stream",
     "text": [
      "{\n",
      "  \"department\": \"undefined\",\n",
      "  \"course_number\": 101,\n",
      "  \"end_date\": \"2026-01-01\"\n",
      "}\n",
      "{\n",
      "  \"course_number\": 101,\n",
      "  \"end_date\": \"2026-01-01\"\n",
      "}\n"
     ]
    }
   ],
   "source": [
    "course = ScheduledCourse(\n",
    "    course_number=101,\n",
    "    end_date=\"2026-01-01\",\n",
    "    department=\"undefined\"\n",
    ")\n",
    "\n",
    "# prints department because it was set\n",
    "jsonCourse = course.model_dump_json(indent=2, exclude_unset=True)\n",
    "print(jsonCourse)\n",
    "# does not print department because it has a default value\n",
    "jsonCourse = course.model_dump_json(indent=2, exclude_defaults=True)\n",
    "print(jsonCourse)"
   ]
  },
  {
   "cell_type": "markdown",
   "metadata": {},
   "source": [
    "JSON Schema"
   ]
  },
  {
   "cell_type": "code",
   "execution_count": 10,
   "metadata": {},
   "outputs": [
    {
     "name": "stdout",
     "output_type": "stream",
     "text": [
      "{\n",
      "  \"properties\": {\n",
      "    \"department\": {\n",
      "      \"default\": \"undefined\",\n",
      "      \"title\": \"Department\",\n",
      "      \"type\": \"string\"\n",
      "    },\n",
      "    \"course_number\": {\n",
      "      \"title\": \"Course Number\",\n",
      "      \"type\": \"integer\"\n",
      "    },\n",
      "    \"start_date\": {\n",
      "      \"default\": \"2025-02-07\",\n",
      "      \"format\": \"date\",\n",
      "      \"title\": \"Start Date\",\n",
      "      \"type\": \"string\"\n",
      "    },\n",
      "    \"end_date\": {\n",
      "      \"format\": \"date\",\n",
      "      \"title\": \"End Date\",\n",
      "      \"type\": \"string\"\n",
      "    }\n",
      "  },\n",
      "  \"required\": [\n",
      "    \"course_number\",\n",
      "    \"end_date\"\n",
      "  ],\n",
      "  \"title\": \"ScheduleCourse\",\n",
      "  \"type\": \"object\"\n",
      "}\n"
     ]
    }
   ],
   "source": [
    "from pydantic import BaseModel, model_validator\n",
    "from datetime import date\n",
    "import json\n",
    "\n",
    "class ScheduleCourse(BaseModel):\n",
    "    department: str = \"undefined\"\n",
    "    course_number: int\n",
    "    start_date: date = date.today()\n",
    "    end_date: date\n",
    "\n",
    "    @model_validator(mode=\"after\")\n",
    "    def validate_dates(self):\n",
    "        if self.start_date > self.end_date:\n",
    "            raise ValueError(\"Start date must be before end date.\")\n",
    "        return self\n",
    "\n",
    "schema = ScheduleCourse.model_json_schema()\n",
    "print(json.dumps(schema, indent=2))"
   ]
  },
  {
   "cell_type": "code",
   "execution_count": 12,
   "metadata": {},
   "outputs": [
    {
     "name": "stdout",
     "output_type": "stream",
     "text": [
      "{\n",
      "  \"$defs\": {\n",
      "    \"Item\": {\n",
      "      \"properties\": {\n",
      "        \"name\": {\n",
      "          \"title\": \"Name\",\n",
      "          \"type\": \"string\"\n",
      "        },\n",
      "        \"description\": {\n",
      "          \"anyOf\": [\n",
      "            {\n",
      "              \"type\": \"string\"\n",
      "            },\n",
      "            {\n",
      "              \"type\": \"null\"\n",
      "            }\n",
      "          ],\n",
      "          \"default\": null,\n",
      "          \"title\": \"Description\"\n",
      "        }\n",
      "      },\n",
      "      \"required\": [\n",
      "        \"name\"\n",
      "      ],\n",
      "      \"title\": \"Item\",\n",
      "      \"type\": \"object\"\n",
      "    }\n",
      "  },\n",
      "  \"properties\": {\n",
      "    \"id\": {\n",
      "      \"title\": \"Id\",\n",
      "      \"type\": \"integer\"\n",
      "    },\n",
      "    \"items\": {\n",
      "      \"items\": {\n",
      "        \"$ref\": \"#/$defs/Item\"\n",
      "      },\n",
      "      \"title\": \"Items\",\n",
      "      \"type\": \"array\"\n",
      "    }\n",
      "  },\n",
      "  \"required\": [\n",
      "    \"id\",\n",
      "    \"items\"\n",
      "  ],\n",
      "  \"title\": \"Order\",\n",
      "  \"type\": \"object\"\n",
      "}\n"
     ]
    }
   ],
   "source": [
    "from typing import List, Optional\n",
    "\n",
    "class Item(BaseModel):\n",
    "    name: str\n",
    "    description: Optional[str] = None\n",
    "    \n",
    "class Order(BaseModel):\n",
    "    id: int\n",
    "    items: List[Item]\n",
    "\n",
    "schema = Order.model_json_schema()\n",
    "print(json.dumps(schema, indent=2))"
   ]
  },
  {
   "cell_type": "markdown",
   "metadata": {},
   "source": [
    "Deserialization"
   ]
  },
  {
   "cell_type": "code",
   "execution_count": 18,
   "metadata": {},
   "outputs": [
    {
     "name": "stdout",
     "output_type": "stream",
     "text": [
      "name='Alice' age=22 email='alice@example.com'\n"
     ]
    }
   ],
   "source": [
    "from pydantic import BaseModel, EmailStr, ValidationError\n",
    "from typing import Optional\n",
    "\n",
    "class User(BaseModel):\n",
    "    name: str\n",
    "    age: int\n",
    "    email: Optional[EmailStr] = None\n",
    "    \n",
    "user_data = '{\"name\": \"Alice\", \"age\": 22, \"email\": \"alice@example.com\"}'\n",
    "try:\n",
    "    user = User.model_validate_json(user_data)\n",
    "    print(user)\n",
    "except ValidationError as ex:\n",
    "    print(ex)"
   ]
  }
 ],
 "metadata": {
  "kernelspec": {
   "display_name": ".venv",
   "language": "python",
   "name": "python3"
  },
  "language_info": {
   "codemirror_mode": {
    "name": "ipython",
    "version": 3
   },
   "file_extension": ".py",
   "mimetype": "text/x-python",
   "name": "python",
   "nbconvert_exporter": "python",
   "pygments_lexer": "ipython3",
   "version": "3.11.11"
  }
 },
 "nbformat": 4,
 "nbformat_minor": 2
}
